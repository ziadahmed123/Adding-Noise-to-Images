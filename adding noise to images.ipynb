{
  "nbformat": 4,
  "nbformat_minor": 0,
  "metadata": {
    "colab": {
      "provenance": []
    },
    "kernelspec": {
      "name": "python3",
      "display_name": "Python 3"
    },
    "accelerator": "GPU"
  },
  "cells": [
    {
      "cell_type": "code",
      "metadata": {
        "id": "E7JACQ4mvohm"
      },
      "source": [
        "import numpy as np\n",
        "import matplotlib.pyplot as plt\n",
        "from tensorflow.keras.layers import Conv2D, Input, Dense, Reshape, Conv2DTranspose,\\\n",
        "   Activation, BatchNormalization, ReLU, Concatenate\n",
        "from tensorflow.keras.models import Model\n",
        "from tensorflow.keras.callbacks import ModelCheckpoint\n",
        "from tensorflow.keras.datasets import  cifar10"
      ],
      "execution_count": null,
      "outputs": []
    },
    {
      "cell_type": "code",
      "source": [
        "import tensorflow as tf\n",
        "from tensorflow import keras\n",
        "from tensorflow.keras import layers\n",
        "import tensorflow_datasets as tfds\n",
        "import matplotlib.pyplot as plt\n",
        "import numpy as np"
      ],
      "metadata": {
        "id": "Ga_vFl-d09cp"
      },
      "execution_count": null,
      "outputs": []
    },
    {
      "cell_type": "code",
      "metadata": {
        "id": "RVxLqT1I6BAy"
      },
      "source": [
        "(train_data_clean, _), (test_data_clean, _) = cifar10.load_data( )"
      ],
      "execution_count": null,
      "outputs": []
    },
    {
      "cell_type": "code",
      "metadata": {
        "id": "kpsbVtx66NAd",
        "colab": {
          "base_uri": "https://localhost:8080/"
        },
        "outputId": "37f91651-999f-4754-9db4-9a5496baa57a"
      },
      "source": [
        "#convert data to floats\n",
        "\n",
        "train_data_clean = train_data_clean.astype('float32') / 255.\n",
        "test_data_clean = test_data_clean.astype('float32') / 255.\n",
        "len(train_data_clean)\n",
        "len(test_data_clean)"
      ],
      "execution_count": null,
      "outputs": [
        {
          "output_type": "execute_result",
          "data": {
            "text/plain": [
              "10000"
            ]
          },
          "metadata": {},
          "execution_count": 25
        }
      ]
    },
    {
      "cell_type": "code",
      "source": [],
      "metadata": {
        "id": "IuDTaTBRnJSn"
      },
      "execution_count": null,
      "outputs": []
    },
    {
      "cell_type": "code",
      "metadata": {
        "id": "Xk1hUUBY6MGl"
      },
      "source": [
        "# Adding noise\n",
        "\n",
        "def add_noise_and_clip_data(data):\n",
        "   noise = np.random.normal(loc=0.0, scale=0.1, size=data.shape)\n",
        "   data = data + noise\n",
        "   data = np.clip(data, 0., 1.)\n",
        "   return data\n",
        "train_data_noisy = add_noise_and_clip_data(train_data_clean)\n",
        "test_data_noisy = add_noise_and_clip_data(test_data_clean)"
      ],
      "execution_count": null,
      "outputs": []
    },
    {
      "cell_type": "code",
      "metadata": {
        "id": "PeJCXAl2MTef",
        "colab": {
          "base_uri": "https://localhost:8080/"
        },
        "outputId": "23b57f14-fc99-49f9-bc98-c85aeb612129"
      },
      "source": [
        "\n",
        "len(train_data_noisy)\n",
        "len(test_data_noisy)"
      ],
      "execution_count": null,
      "outputs": [
        {
          "output_type": "execute_result",
          "data": {
            "text/plain": [
              "10000"
            ]
          },
          "metadata": {},
          "execution_count": 27
        }
      ]
    },
    {
      "cell_type": "code",
      "source": [
        "test_data_noisy[0].shape"
      ],
      "metadata": {
        "colab": {
          "base_uri": "https://localhost:8080/"
        },
        "id": "hYEmqw5EFq8-",
        "outputId": "20c00ee1-fdde-46c7-f21f-9bb7c2a03d5b"
      },
      "execution_count": null,
      "outputs": [
        {
          "output_type": "execute_result",
          "data": {
            "text/plain": [
              "(32, 32, 3)"
            ]
          },
          "metadata": {},
          "execution_count": 28
        }
      ]
    },
    {
      "cell_type": "code",
      "metadata": {
        "id": "pgGYKipW6xbl",
        "colab": {
          "base_uri": "https://localhost:8080/",
          "height": 216
        },
        "outputId": "c9bebf6c-4d35-4eb4-b6d6-442e5525e2bd"
      },
      "source": [
        "idx = 4\n",
        "plt.subplot(1,2,1)\n",
        "plt.imshow(train_data_clean[idx])\n",
        "plt.title('Original image')\n",
        "plt.subplot(1,2,2)\n",
        "plt.imshow(train_data_noisy[idx])\n",
        "plt.title('Image with noise')\n",
        "plt.show()"
      ],
      "execution_count": null,
      "outputs": [
        {
          "output_type": "display_data",
          "data": {
            "text/plain": [
              "<Figure size 432x288 with 2 Axes>"
            ],
            "image/png": "[encoded data removed]"
          },
          "metadata": {
            "needs_background": "light"
          }
        }
      ]
    },
    {
      "cell_type": "code",
      "metadata": {
        "id": "9a6Kj5m97EdV"
      },
      "source": [
        "\n",
        "#Defining the architecture\n",
        "\n",
        "def conv_block(x, filters, kernel_size, strides=2):\n",
        "   x = Conv2D(filters=filters,\n",
        "              kernel_size=kernel_size,\n",
        "              strides=strides,\n",
        "              padding='same')(x)\n",
        "   x = BatchNormalization()(x)\n",
        "   x = ReLU()(x)\n",
        "   return x"
      ],
      "execution_count": null,
      "outputs": []
    },
    {
      "cell_type": "code",
      "metadata": {
        "id": "Q3e_EOig7cwI"
      },
      "source": [
        "def deconv_block(x, filters, kernel_size):\n",
        "   x = Conv2DTranspose(filters=filters,\n",
        "                       kernel_size=kernel_size,\n",
        "                       strides=2,\n",
        "                       padding='same')(x)\n",
        "   x = BatchNormalization()(x)\n",
        "   x = ReLU()(x)\n",
        "   return x"
      ],
      "execution_count": null,
      "outputs": []
    },
    {
      "cell_type": "code",
      "metadata": {
        "id": "ScrlevAr7zsA"
      },
      "source": [
        "def denoising_autoencoder():\n",
        "   dae_inputs = Input(shape=(32, 32, 3), name='dae_input')\n",
        "   conv_block1 = conv_block(dae_inputs, 32, 3)\n",
        "   conv_block2 = conv_block(conv_block1, 64, 3)\n",
        "   conv_block3 = conv_block(conv_block2, 128, 3)\n",
        "   conv_block4 = conv_block(conv_block3, 256, 3)\n",
        "   conv_block5 = conv_block(conv_block4, 256, 3, 1)\n",
        "\n",
        "   deconv_block1 = deconv_block(conv_block5, 256, 3)\n",
        "   merge1 = Concatenate()([deconv_block1, conv_block3])\n",
        "   deconv_block2 = deconv_block(merge1, 128, 3)\n",
        "   merge2 = Concatenate()([deconv_block2, conv_block2])\n",
        "   deconv_block3 = deconv_block(merge2, 64, 3)\n",
        "   merge3 = Concatenate()([deconv_block3, conv_block1])\n",
        "   deconv_block4 = deconv_block(merge3, 32, 3)\n",
        "\n",
        "   final_deconv = Conv2DTranspose(filters=3,\n",
        "                       kernel_size=3,\n",
        "                       padding='same')(deconv_block4)\n",
        "\n",
        "   dae_outputs = Activation('sigmoid', name='dae_output')(final_deconv)\n",
        "\n",
        "   return Model(dae_inputs, dae_outputs, name='dae')\n"
      ],
      "execution_count": null,
      "outputs": []
    },
    {
      "cell_type": "code",
      "source": [
        "checkpoint = ModelCheckpoint('best_model.h5', verbose=1, save_best_only=True, save_weights_only=True)"
      ],
      "metadata": {
        "id": "6YcIsmhi7aIO"
      },
      "execution_count": null,
      "outputs": []
    },
    {
      "cell_type": "code",
      "metadata": {
        "id": "5RB5RHhaS19W"
      },
      "source": [
        "import keras.backend as K\n",
        "\n",
        "# Create a loss function that adds the MSE loss to the mean of all squared activations of a specific layer\n",
        "def loss(y_true,y_pred):\n",
        "    return K.mean(K.square(y_pred - y_true) + K.mean(y_pred), axis=-1)\n",
        "    \n",
        "    return loss"
      ],
      "execution_count": null,
      "outputs": []
    },
    {
      "cell_type": "code",
      "metadata": {
        "id": "oe_SXyxIjomM",
        "colab": {
          "base_uri": "https://localhost:8080/"
        },
        "outputId": "e6327196-0bb9-4927-9204-3f842db63a2a"
      },
      "source": [
        "# Compiling the model\n",
        "\n",
        "dae = denoising_autoencoder()\n",
        "dae.compile(loss='mse', optimizer='adam', metrics=['accuracy'])\n",
        "\n",
        "\n",
        "history = dae.fit(train_data_noisy[:9000], train_data_clean[:9000], validation_data = (test_data_noisy[9000:], test_data_clean[9000:]),\n",
        "      \n",
        "       epochs=100,\n",
        "       batch_size=128,callbacks=[checkpoint])"
      ],
      "execution_count": null,
      "outputs": [
        {
          "output_type": "stream",
          "name": "stdout",
          "text": [
            "Epoch 1/100\n",
            "71/71 [==============================] - ETA: 0s - loss: 0.0130 - accuracy: 0.5634\n",
            "Epoch 1: val_loss improved from inf to 0.04647, saving model to best_model.h5\n",
            "71/71 [==============================] - 5s 41ms/step - loss: 0.0130 - accuracy: 0.5634 - val_loss: 0.0465 - val_accuracy: 0.5223\n",
            "Epoch 2/100\n",
            "70/71 [============================>.] - ETA: 0s - loss: 0.0038 - accuracy: 0.6793\n",
            "Epoch 2: val_loss improved from 0.04647 to 0.03667, saving model to best_model.h5\n",
            "71/71 [==============================] - 2s 29ms/step - loss: 0.0039 - accuracy: 0.6793 - val_loss: 0.0367 - val_accuracy: 0.5913\n",
            "Epoch 3/100\n",
            "71/71 [==============================] - ETA: 0s - loss: 0.0032 - accuracy: 0.7132\n",
            "Epoch 3: val_loss improved from 0.03667 to 0.02462, saving model to best_model.h5\n",
            "71/71 [==============================] - 2s 26ms/step - loss: 0.0032 - accuracy: 0.7132 - val_loss: 0.0246 - val_accuracy: 0.6430\n",
            "Epoch 4/100\n",
            "70/71 [============================>.] - ETA: 0s - loss: 0.0029 - accuracy: 0.7269\n",
            "Epoch 4: val_loss improved from 0.02462 to 0.01425, saving model to best_model.h5\n",
            "71/71 [==============================] - 2s 24ms/step - loss: 0.0029 - accuracy: 0.7267 - val_loss: 0.0142 - val_accuracy: 0.6903\n",
            "Epoch 5/100\n",
            "70/71 [============================>.] - ETA: 0s - loss: 0.0026 - accuracy: 0.7393\n",
            "Epoch 5: val_loss improved from 0.01425 to 0.00786, saving model to best_model.h5\n",
            "71/71 [==============================] - 2s 24ms/step - loss: 0.0026 - accuracy: 0.7394 - val_loss: 0.0079 - val_accuracy: 0.7135\n",
            "Epoch 6/100\n",
            "70/71 [============================>.] - ETA: 0s - loss: 0.0026 - accuracy: 0.7448\n",
            "Epoch 6: val_loss improved from 0.00786 to 0.00350, saving model to best_model.h5\n",
            "71/71 [==============================] - 2s 29ms/step - loss: 0.0026 - accuracy: 0.7448 - val_loss: 0.0035 - val_accuracy: 0.7440\n",
            "Epoch 7/100\n",
            "71/71 [==============================] - ETA: 0s - loss: 0.0025 - accuracy: 0.7487\n",
            "Epoch 7: val_loss improved from 0.00350 to 0.00260, saving model to best_model.h5\n",
            "71/71 [==============================] - 2s 35ms/step - loss: 0.0025 - accuracy: 0.7487 - val_loss: 0.0026 - val_accuracy: 0.7496\n",
            "Epoch 8/100\n",
            "70/71 [============================>.] - ETA: 0s - loss: 0.0024 - accuracy: 0.7540\n",
            "Epoch 8: val_loss improved from 0.00260 to 0.00236, saving model to best_model.h5\n",
            "71/71 [==============================] - 2s 34ms/step - loss: 0.0024 - accuracy: 0.7541 - val_loss: 0.0024 - val_accuracy: 0.7559\n",
            "Epoch 9/100\n",
            "69/71 [============================>.] - ETA: 0s - loss: 0.0024 - accuracy: 0.7582\n",
            "Epoch 9: val_loss did not improve from 0.00236\n",
            "71/71 [==============================] - 2s 31ms/step - loss: 0.0024 - accuracy: 0.7583 - val_loss: 0.0024 - val_accuracy: 0.7502\n",
            "Epoch 10/100\n",
            "71/71 [==============================] - ETA: 0s - loss: 0.0024 - accuracy: 0.7589\n",
            "Epoch 10: val_loss did not improve from 0.00236\n",
            "71/71 [==============================] - 2s 25ms/step - loss: 0.0024 - accuracy: 0.7589 - val_loss: 0.0038 - val_accuracy: 0.7416\n",
            "Epoch 11/100\n",
            "69/71 [============================>.] - ETA: 0s - loss: 0.0024 - accuracy: 0.7593\n",
            "Epoch 11: val_loss did not improve from 0.00236\n",
            "71/71 [==============================] - 2s 24ms/step - loss: 0.0024 - accuracy: 0.7595 - val_loss: 0.0025 - val_accuracy: 0.7662\n",
            "Epoch 12/100\n",
            "69/71 [============================>.] - ETA: 0s - loss: 0.0023 - accuracy: 0.7633\n",
            "Epoch 12: val_loss did not improve from 0.00236\n",
            "71/71 [==============================] - 2s 24ms/step - loss: 0.0023 - accuracy: 0.7630 - val_loss: 0.0025 - val_accuracy: 0.7596\n",
            "Epoch 13/100\n",
            "70/71 [============================>.] - ETA: 0s - loss: 0.0024 - accuracy: 0.7616\n",
            "Epoch 13: val_loss did not improve from 0.00236\n",
            "71/71 [==============================] - 2s 24ms/step - loss: 0.0024 - accuracy: 0.7618 - val_loss: 0.0024 - val_accuracy: 0.7580\n",
            "Epoch 14/100\n",
            "69/71 [============================>.] - ETA: 0s - loss: 0.0022 - accuracy: 0.7674\n",
            "Epoch 14: val_loss improved from 0.00236 to 0.00225, saving model to best_model.h5\n",
            "71/71 [==============================] - 2s 25ms/step - loss: 0.0022 - accuracy: 0.7669 - val_loss: 0.0022 - val_accuracy: 0.7681\n",
            "Epoch 15/100\n",
            "69/71 [============================>.] - ETA: 0s - loss: 0.0022 - accuracy: 0.7665\n",
            "Epoch 15: val_loss improved from 0.00225 to 0.00212, saving model to best_model.h5\n",
            "71/71 [==============================] - 2s 26ms/step - loss: 0.0022 - accuracy: 0.7668 - val_loss: 0.0021 - val_accuracy: 0.7750\n",
            "Epoch 16/100\n",
            "70/71 [============================>.] - ETA: 0s - loss: 0.0022 - accuracy: 0.7710\n",
            "Epoch 16: val_loss improved from 0.00212 to 0.00212, saving model to best_model.h5\n",
            "71/71 [==============================] - 2s 26ms/step - loss: 0.0022 - accuracy: 0.7712 - val_loss: 0.0021 - val_accuracy: 0.7800\n",
            "Epoch 17/100\n",
            "70/71 [============================>.] - ETA: 0s - loss: 0.0022 - accuracy: 0.7701\n",
            "Epoch 17: val_loss improved from 0.00212 to 0.00202, saving model to best_model.h5\n",
            "71/71 [==============================] - 2s 26ms/step - loss: 0.0022 - accuracy: 0.7703 - val_loss: 0.0020 - val_accuracy: 0.7729\n",
            "Epoch 18/100\n",
            "69/71 [============================>.] - ETA: 0s - loss: 0.0021 - accuracy: 0.7723\n",
            "Epoch 18: val_loss improved from 0.00202 to 0.00200, saving model to best_model.h5\n",
            "71/71 [==============================] - 2s 30ms/step - loss: 0.0021 - accuracy: 0.7723 - val_loss: 0.0020 - val_accuracy: 0.7726\n",
            "Epoch 19/100\n",
            "69/71 [============================>.] - ETA: 0s - loss: 0.0021 - accuracy: 0.7749\n",
            "Epoch 19: val_loss did not improve from 0.00200\n",
            "71/71 [==============================] - 2s 30ms/step - loss: 0.0021 - accuracy: 0.7749 - val_loss: 0.0022 - val_accuracy: 0.7755\n",
            "Epoch 20/100\n",
            "69/71 [============================>.] - ETA: 0s - loss: 0.0021 - accuracy: 0.7754\n",
            "Epoch 20: val_loss did not improve from 0.00200\n",
            "71/71 [==============================] - 2s 27ms/step - loss: 0.0021 - accuracy: 0.7758 - val_loss: 0.0021 - val_accuracy: 0.7697\n",
            "Epoch 21/100\n",
            "69/71 [============================>.] - ETA: 0s - loss: 0.0021 - accuracy: 0.7745\n",
            "Epoch 21: val_loss did not improve from 0.00200\n",
            "71/71 [==============================] - 2s 25ms/step - loss: 0.0021 - accuracy: 0.7747 - val_loss: 0.0021 - val_accuracy: 0.7791\n",
            "Epoch 22/100\n",
            "69/71 [============================>.] - ETA: 0s - loss: 0.0021 - accuracy: 0.7771\n",
            "Epoch 22: val_loss did not improve from 0.00200\n",
            "71/71 [==============================] - 2s 27ms/step - loss: 0.0021 - accuracy: 0.7772 - val_loss: 0.0020 - val_accuracy: 0.7668\n",
            "Epoch 23/100\n",
            "71/71 [==============================] - ETA: 0s - loss: 0.0021 - accuracy: 0.7790\n",
            "Epoch 23: val_loss improved from 0.00200 to 0.00195, saving model to best_model.h5\n",
            "71/71 [==============================] - 2s 30ms/step - loss: 0.0021 - accuracy: 0.7790 - val_loss: 0.0019 - val_accuracy: 0.7789\n",
            "Epoch 24/100\n",
            "69/71 [============================>.] - ETA: 0s - loss: 0.0021 - accuracy: 0.7767\n",
            "Epoch 24: val_loss improved from 0.00195 to 0.00190, saving model to best_model.h5\n",
            "71/71 [==============================] - 2s 30ms/step - loss: 0.0021 - accuracy: 0.7765 - val_loss: 0.0019 - val_accuracy: 0.7779\n",
            "Epoch 25/100\n",
            "70/71 [============================>.] - ETA: 0s - loss: 0.0020 - accuracy: 0.7792\n",
            "Epoch 25: val_loss did not improve from 0.00190\n",
            "71/71 [==============================] - 2s 27ms/step - loss: 0.0020 - accuracy: 0.7793 - val_loss: 0.0019 - val_accuracy: 0.7767\n",
            "Epoch 26/100\n",
            "69/71 [============================>.] - ETA: 0s - loss: 0.0019 - accuracy: 0.7832\n",
            "Epoch 26: val_loss improved from 0.00190 to 0.00189, saving model to best_model.h5\n",
            "71/71 [==============================] - 2s 25ms/step - loss: 0.0019 - accuracy: 0.7832 - val_loss: 0.0019 - val_accuracy: 0.7856\n",
            "Epoch 27/100\n",
            "70/71 [============================>.] - ETA: 0s - loss: 0.0020 - accuracy: 0.7824\n",
            "Epoch 27: val_loss did not improve from 0.00189\n",
            "71/71 [==============================] - 2s 24ms/step - loss: 0.0020 - accuracy: 0.7821 - val_loss: 0.0020 - val_accuracy: 0.7814\n",
            "Epoch 28/100\n",
            "69/71 [============================>.] - ETA: 0s - loss: 0.0020 - accuracy: 0.7818\n",
            "Epoch 28: val_loss did not improve from 0.00189\n",
            "71/71 [==============================] - 2s 24ms/step - loss: 0.0020 - accuracy: 0.7819 - val_loss: 0.0019 - val_accuracy: 0.7755\n",
            "Epoch 29/100\n",
            "69/71 [============================>.] - ETA: 0s - loss: 0.0020 - accuracy: 0.7831\n",
            "Epoch 29: val_loss did not improve from 0.00189\n",
            "71/71 [==============================] - 2s 25ms/step - loss: 0.0020 - accuracy: 0.7831 - val_loss: 0.0021 - val_accuracy: 0.7839\n",
            "Epoch 30/100\n",
            "70/71 [============================>.] - ETA: 0s - loss: 0.0019 - accuracy: 0.7815\n",
            "Epoch 30: val_loss did not improve from 0.00189\n",
            "71/71 [==============================] - 2s 25ms/step - loss: 0.0019 - accuracy: 0.7816 - val_loss: 0.0019 - val_accuracy: 0.7750\n",
            "Epoch 31/100\n",
            "69/71 [============================>.] - ETA: 0s - loss: 0.0019 - accuracy: 0.7847\n",
            "Epoch 31: val_loss did not improve from 0.00189\n",
            "71/71 [==============================] - 2s 25ms/step - loss: 0.0019 - accuracy: 0.7846 - val_loss: 0.0019 - val_accuracy: 0.7837\n",
            "Epoch 32/100\n",
            "70/71 [============================>.] - ETA: 0s - loss: 0.0020 - accuracy: 0.7854\n",
            "Epoch 32: val_loss did not improve from 0.00189\n",
            "71/71 [==============================] - 2s 25ms/step - loss: 0.0020 - accuracy: 0.7854 - val_loss: 0.0020 - val_accuracy: 0.7677\n",
            "Epoch 33/100\n",
            "71/71 [==============================] - ETA: 0s - loss: 0.0019 - accuracy: 0.7866\n",
            "Epoch 33: val_loss improved from 0.00189 to 0.00182, saving model to best_model.h5\n",
            "71/71 [==============================] - 2s 26ms/step - loss: 0.0019 - accuracy: 0.7866 - val_loss: 0.0018 - val_accuracy: 0.7727\n",
            "Epoch 34/100\n",
            "69/71 [============================>.] - ETA: 0s - loss: 0.0020 - accuracy: 0.7860\n",
            "Epoch 34: val_loss did not improve from 0.00182\n",
            "71/71 [==============================] - 2s 25ms/step - loss: 0.0020 - accuracy: 0.7858 - val_loss: 0.0021 - val_accuracy: 0.7885\n",
            "Epoch 35/100\n",
            "70/71 [============================>.] - ETA: 0s - loss: 0.0019 - accuracy: 0.7868\n",
            "Epoch 35: val_loss did not improve from 0.00182\n",
            "71/71 [==============================] - 2s 27ms/step - loss: 0.0019 - accuracy: 0.7868 - val_loss: 0.0021 - val_accuracy: 0.7878\n",
            "Epoch 36/100\n",
            "71/71 [==============================] - ETA: 0s - loss: 0.0019 - accuracy: 0.7865\n",
            "Epoch 36: val_loss did not improve from 0.00182\n",
            "71/71 [==============================] - 2s 29ms/step - loss: 0.0019 - accuracy: 0.7865 - val_loss: 0.0019 - val_accuracy: 0.7917\n",
            "Epoch 37/100\n",
            "69/71 [============================>.] - ETA: 0s - loss: 0.0019 - accuracy: 0.7866\n",
            "Epoch 37: val_loss did not improve from 0.00182\n",
            "71/71 [==============================] - 2s 24ms/step - loss: 0.0019 - accuracy: 0.7868 - val_loss: 0.0018 - val_accuracy: 0.7852\n",
            "Epoch 38/100\n",
            "70/71 [============================>.] - ETA: 0s - loss: 0.0019 - accuracy: 0.7870\n",
            "Epoch 38: val_loss did not improve from 0.00182\n",
            "71/71 [==============================] - 2s 24ms/step - loss: 0.0019 - accuracy: 0.7872 - val_loss: 0.0019 - val_accuracy: 0.7873\n",
            "Epoch 39/100\n",
            "70/71 [============================>.] - ETA: 0s - loss: 0.0018 - accuracy: 0.7889\n",
            "Epoch 39: val_loss did not improve from 0.00182\n",
            "71/71 [==============================] - 2s 24ms/step - loss: 0.0018 - accuracy: 0.7888 - val_loss: 0.0019 - val_accuracy: 0.7698\n",
            "Epoch 40/100\n",
            "70/71 [============================>.] - ETA: 0s - loss: 0.0019 - accuracy: 0.7914\n",
            "Epoch 40: val_loss did not improve from 0.00182\n",
            "71/71 [==============================] - 2s 25ms/step - loss: 0.0019 - accuracy: 0.7911 - val_loss: 0.0020 - val_accuracy: 0.7682\n",
            "Epoch 41/100\n",
            "69/71 [============================>.] - ETA: 0s - loss: 0.0019 - accuracy: 0.7877\n",
            "Epoch 41: val_loss improved from 0.00182 to 0.00174, saving model to best_model.h5\n",
            "71/71 [==============================] - 2s 26ms/step - loss: 0.0019 - accuracy: 0.7874 - val_loss: 0.0017 - val_accuracy: 0.7891\n",
            "Epoch 42/100\n",
            "71/71 [==============================] - ETA: 0s - loss: 0.0019 - accuracy: 0.7914\n",
            "Epoch 42: val_loss did not improve from 0.00174\n",
            "71/71 [==============================] - 2s 25ms/step - loss: 0.0019 - accuracy: 0.7914 - val_loss: 0.0019 - val_accuracy: 0.7893\n",
            "Epoch 43/100\n",
            "69/71 [============================>.] - ETA: 0s - loss: 0.0018 - accuracy: 0.7929\n",
            "Epoch 43: val_loss did not improve from 0.00174\n",
            "71/71 [==============================] - 2s 25ms/step - loss: 0.0018 - accuracy: 0.7925 - val_loss: 0.0018 - val_accuracy: 0.7827\n",
            "Epoch 44/100\n",
            "69/71 [============================>.] - ETA: 0s - loss: 0.0018 - accuracy: 0.7933\n",
            "Epoch 44: val_loss did not improve from 0.00174\n",
            "71/71 [==============================] - 2s 25ms/step - loss: 0.0018 - accuracy: 0.7932 - val_loss: 0.0019 - val_accuracy: 0.7875\n",
            "Epoch 45/100\n",
            "71/71 [==============================] - ETA: 0s - loss: 0.0018 - accuracy: 0.7914\n",
            "Epoch 45: val_loss did not improve from 0.00174\n",
            "71/71 [==============================] - 2s 29ms/step - loss: 0.0018 - accuracy: 0.7914 - val_loss: 0.0018 - val_accuracy: 0.7777\n",
            "Epoch 46/100\n",
            "69/71 [============================>.] - ETA: 0s - loss: 0.0018 - accuracy: 0.7937\n",
            "Epoch 46: val_loss did not improve from 0.00174\n",
            "71/71 [==============================] - 2s 27ms/step - loss: 0.0018 - accuracy: 0.7932 - val_loss: 0.0018 - val_accuracy: 0.7805\n",
            "Epoch 47/100\n",
            "70/71 [============================>.] - ETA: 0s - loss: 0.0018 - accuracy: 0.7953\n",
            "Epoch 47: val_loss did not improve from 0.00174\n",
            "71/71 [==============================] - 2s 25ms/step - loss: 0.0018 - accuracy: 0.7952 - val_loss: 0.0019 - val_accuracy: 0.7822\n",
            "Epoch 48/100\n",
            "71/71 [==============================] - ETA: 0s - loss: 0.0017 - accuracy: 0.7961\n",
            "Epoch 48: val_loss did not improve from 0.00174\n",
            "71/71 [==============================] - 2s 25ms/step - loss: 0.0017 - accuracy: 0.7961 - val_loss: 0.0018 - val_accuracy: 0.7921\n",
            "Epoch 49/100\n",
            "71/71 [==============================] - ETA: 0s - loss: 0.0018 - accuracy: 0.7960\n",
            "Epoch 49: val_loss did not improve from 0.00174\n",
            "71/71 [==============================] - 2s 26ms/step - loss: 0.0018 - accuracy: 0.7960 - val_loss: 0.0019 - val_accuracy: 0.7924\n",
            "Epoch 50/100\n",
            "71/71 [==============================] - ETA: 0s - loss: 0.0017 - accuracy: 0.7952\n",
            "Epoch 50: val_loss did not improve from 0.00174\n",
            "71/71 [==============================] - 2s 25ms/step - loss: 0.0017 - accuracy: 0.7952 - val_loss: 0.0020 - val_accuracy: 0.7916\n",
            "Epoch 51/100\n",
            "71/71 [==============================] - ETA: 0s - loss: 0.0018 - accuracy: 0.7967\n",
            "Epoch 51: val_loss did not improve from 0.00174\n",
            "71/71 [==============================] - 2s 26ms/step - loss: 0.0018 - accuracy: 0.7967 - val_loss: 0.0018 - val_accuracy: 0.7874\n",
            "Epoch 52/100\n",
            "70/71 [============================>.] - ETA: 0s - loss: 0.0017 - accuracy: 0.7949\n",
            "Epoch 52: val_loss did not improve from 0.00174\n",
            "71/71 [==============================] - 2s 26ms/step - loss: 0.0017 - accuracy: 0.7949 - val_loss: 0.0018 - val_accuracy: 0.7857\n",
            "Epoch 53/100\n",
            "71/71 [==============================] - ETA: 0s - loss: 0.0017 - accuracy: 0.7965\n",
            "Epoch 53: val_loss did not improve from 0.00174\n",
            "71/71 [==============================] - 2s 29ms/step - loss: 0.0017 - accuracy: 0.7965 - val_loss: 0.0020 - val_accuracy: 0.7897\n",
            "Epoch 54/100\n",
            "71/71 [==============================] - ETA: 0s - loss: 0.0016 - accuracy: 0.7993\n",
            "Epoch 54: val_loss did not improve from 0.00174\n",
            "71/71 [==============================] - 2s 28ms/step - loss: 0.0016 - accuracy: 0.7993 - val_loss: 0.0019 - val_accuracy: 0.7852\n",
            "Epoch 55/100\n",
            "70/71 [============================>.] - ETA: 0s - loss: 0.0017 - accuracy: 0.7991\n",
            "Epoch 55: val_loss did not improve from 0.00174\n",
            "71/71 [==============================] - 2s 26ms/step - loss: 0.0017 - accuracy: 0.7991 - val_loss: 0.0019 - val_accuracy: 0.7768\n",
            "Epoch 56/100\n",
            "70/71 [============================>.] - ETA: 0s - loss: 0.0016 - accuracy: 0.7988\n",
            "Epoch 56: val_loss did not improve from 0.00174\n",
            "71/71 [==============================] - 2s 26ms/step - loss: 0.0016 - accuracy: 0.7985 - val_loss: 0.0018 - val_accuracy: 0.7829\n",
            "Epoch 57/100\n",
            "71/71 [==============================] - ETA: 0s - loss: 0.0016 - accuracy: 0.8000\n",
            "Epoch 57: val_loss did not improve from 0.00174\n",
            "71/71 [==============================] - 2s 26ms/step - loss: 0.0016 - accuracy: 0.8000 - val_loss: 0.0019 - val_accuracy: 0.7906\n",
            "Epoch 58/100\n",
            "71/71 [==============================] - ETA: 0s - loss: 0.0016 - accuracy: 0.7978\n",
            "Epoch 58: val_loss did not improve from 0.00174\n",
            "71/71 [==============================] - 2s 25ms/step - loss: 0.0016 - accuracy: 0.7978 - val_loss: 0.0019 - val_accuracy: 0.7871\n",
            "Epoch 59/100\n",
            "70/71 [============================>.] - ETA: 0s - loss: 0.0016 - accuracy: 0.7996\n",
            "Epoch 59: val_loss did not improve from 0.00174\n",
            "71/71 [==============================] - 2s 26ms/step - loss: 0.0016 - accuracy: 0.7996 - val_loss: 0.0019 - val_accuracy: 0.7824\n",
            "Epoch 60/100\n",
            "69/71 [============================>.] - ETA: 0s - loss: 0.0016 - accuracy: 0.8007\n",
            "Epoch 60: val_loss did not improve from 0.00174\n",
            "71/71 [==============================] - 2s 25ms/step - loss: 0.0016 - accuracy: 0.8005 - val_loss: 0.0019 - val_accuracy: 0.7792\n",
            "Epoch 61/100\n",
            "69/71 [============================>.] - ETA: 0s - loss: 0.0015 - accuracy: 0.8006\n",
            "Epoch 61: val_loss did not improve from 0.00174\n",
            "71/71 [==============================] - 2s 25ms/step - loss: 0.0015 - accuracy: 0.8005 - val_loss: 0.0018 - val_accuracy: 0.7875\n",
            "Epoch 62/100\n",
            "70/71 [============================>.] - ETA: 0s - loss: 0.0015 - accuracy: 0.8018\n",
            "Epoch 62: val_loss did not improve from 0.00174\n",
            "71/71 [==============================] - 2s 25ms/step - loss: 0.0015 - accuracy: 0.8018 - val_loss: 0.0019 - val_accuracy: 0.7843\n",
            "Epoch 63/100\n",
            "70/71 [============================>.] - ETA: 0s - loss: 0.0015 - accuracy: 0.8017\n",
            "Epoch 63: val_loss did not improve from 0.00174\n",
            "71/71 [==============================] - 2s 25ms/step - loss: 0.0015 - accuracy: 0.8017 - val_loss: 0.0020 - val_accuracy: 0.7759\n",
            "Epoch 64/100\n",
            "69/71 [============================>.] - ETA: 0s - loss: 0.0015 - accuracy: 0.8014\n",
            "Epoch 64: val_loss did not improve from 0.00174\n",
            "71/71 [==============================] - 2s 25ms/step - loss: 0.0015 - accuracy: 0.8015 - val_loss: 0.0021 - val_accuracy: 0.7861\n",
            "Epoch 65/100\n",
            "69/71 [============================>.] - ETA: 0s - loss: 0.0015 - accuracy: 0.8021\n",
            "Epoch 65: val_loss did not improve from 0.00174\n",
            "71/71 [==============================] - 2s 25ms/step - loss: 0.0015 - accuracy: 0.8023 - val_loss: 0.0019 - val_accuracy: 0.7783\n",
            "Epoch 66/100\n",
            "70/71 [============================>.] - ETA: 0s - loss: 0.0015 - accuracy: 0.8025\n",
            "Epoch 66: val_loss did not improve from 0.00174\n",
            "71/71 [==============================] - 2s 25ms/step - loss: 0.0015 - accuracy: 0.8024 - val_loss: 0.0019 - val_accuracy: 0.7845\n",
            "Epoch 67/100\n",
            "71/71 [==============================] - ETA: 0s - loss: 0.0015 - accuracy: 0.8023\n",
            "Epoch 67: val_loss did not improve from 0.00174\n",
            "71/71 [==============================] - 2s 25ms/step - loss: 0.0015 - accuracy: 0.8023 - val_loss: 0.0019 - val_accuracy: 0.7863\n",
            "Epoch 68/100\n",
            "69/71 [============================>.] - ETA: 0s - loss: 0.0015 - accuracy: 0.8037\n",
            "Epoch 68: val_loss did not improve from 0.00174\n",
            "71/71 [==============================] - 2s 26ms/step - loss: 0.0015 - accuracy: 0.8034 - val_loss: 0.0019 - val_accuracy: 0.7923\n",
            "Epoch 69/100\n",
            "69/71 [============================>.] - ETA: 0s - loss: 0.0014 - accuracy: 0.8040\n",
            "Epoch 69: val_loss did not improve from 0.00174\n",
            "71/71 [==============================] - 2s 25ms/step - loss: 0.0014 - accuracy: 0.8039 - val_loss: 0.0019 - val_accuracy: 0.7879\n",
            "Epoch 70/100\n",
            "69/71 [============================>.] - ETA: 0s - loss: 0.0014 - accuracy: 0.8055\n",
            "Epoch 70: val_loss did not improve from 0.00174\n",
            "71/71 [==============================] - 2s 26ms/step - loss: 0.0014 - accuracy: 0.8051 - val_loss: 0.0019 - val_accuracy: 0.7932\n",
            "Epoch 71/100\n",
            "69/71 [============================>.] - ETA: 0s - loss: 0.0015 - accuracy: 0.8039\n",
            "Epoch 71: val_loss did not improve from 0.00174\n",
            "71/71 [==============================] - 2s 31ms/step - loss: 0.0015 - accuracy: 0.8038 - val_loss: 0.0021 - val_accuracy: 0.7802\n",
            "Epoch 72/100\n",
            "71/71 [==============================] - ETA: 0s - loss: 0.0015 - accuracy: 0.8046\n",
            "Epoch 72: val_loss did not improve from 0.00174\n",
            "71/71 [==============================] - 2s 25ms/step - loss: 0.0015 - accuracy: 0.8046 - val_loss: 0.0019 - val_accuracy: 0.7955\n",
            "Epoch 73/100\n",
            "69/71 [============================>.] - ETA: 0s - loss: 0.0014 - accuracy: 0.8063\n",
            "Epoch 73: val_loss did not improve from 0.00174\n",
            "71/71 [==============================] - 2s 26ms/step - loss: 0.0014 - accuracy: 0.8065 - val_loss: 0.0019 - val_accuracy: 0.7823\n",
            "Epoch 74/100\n",
            "71/71 [==============================] - ETA: 0s - loss: 0.0014 - accuracy: 0.8055\n",
            "Epoch 74: val_loss did not improve from 0.00174\n",
            "71/71 [==============================] - 2s 26ms/step - loss: 0.0014 - accuracy: 0.8055 - val_loss: 0.0020 - val_accuracy: 0.7880\n",
            "Epoch 75/100\n",
            "69/71 [============================>.] - ETA: 0s - loss: 0.0014 - accuracy: 0.8070\n",
            "Epoch 75: val_loss did not improve from 0.00174\n",
            "71/71 [==============================] - 2s 25ms/step - loss: 0.0014 - accuracy: 0.8074 - val_loss: 0.0020 - val_accuracy: 0.7910\n",
            "Epoch 76/100\n",
            "69/71 [============================>.] - ETA: 0s - loss: 0.0014 - accuracy: 0.8074\n",
            "Epoch 76: val_loss did not improve from 0.00174\n",
            "71/71 [==============================] - 2s 25ms/step - loss: 0.0014 - accuracy: 0.8075 - val_loss: 0.0020 - val_accuracy: 0.7871\n",
            "Epoch 77/100\n",
            "71/71 [==============================] - ETA: 0s - loss: 0.0014 - accuracy: 0.8054\n",
            "Epoch 77: val_loss did not improve from 0.00174\n",
            "71/71 [==============================] - 2s 26ms/step - loss: 0.0014 - accuracy: 0.8054 - val_loss: 0.0019 - val_accuracy: 0.7782\n",
            "Epoch 78/100\n",
            "70/71 [============================>.] - ETA: 0s - loss: 0.0014 - accuracy: 0.8071\n",
            "Epoch 78: val_loss did not improve from 0.00174\n",
            "71/71 [==============================] - 2s 25ms/step - loss: 0.0014 - accuracy: 0.8070 - val_loss: 0.0020 - val_accuracy: 0.7810\n",
            "Epoch 79/100\n",
            "70/71 [============================>.] - ETA: 0s - loss: 0.0014 - accuracy: 0.8089\n",
            "Epoch 79: val_loss did not improve from 0.00174\n",
            "71/71 [==============================] - 2s 26ms/step - loss: 0.0014 - accuracy: 0.8089 - val_loss: 0.0021 - val_accuracy: 0.7858\n",
            "Epoch 80/100\n",
            "71/71 [==============================] - ETA: 0s - loss: 0.0014 - accuracy: 0.8071\n",
            "Epoch 80: val_loss did not improve from 0.00174\n",
            "71/71 [==============================] - 2s 25ms/step - loss: 0.0014 - accuracy: 0.8071 - val_loss: 0.0019 - val_accuracy: 0.7886\n",
            "Epoch 81/100\n",
            "70/71 [============================>.] - ETA: 0s - loss: 0.0014 - accuracy: 0.8069\n",
            "Epoch 81: val_loss did not improve from 0.00174\n",
            "71/71 [==============================] - 2s 28ms/step - loss: 0.0014 - accuracy: 0.8070 - val_loss: 0.0020 - val_accuracy: 0.7949\n",
            "Epoch 82/100\n",
            "69/71 [============================>.] - ETA: 0s - loss: 0.0014 - accuracy: 0.8057\n",
            "Epoch 82: val_loss did not improve from 0.00174\n",
            "71/71 [==============================] - 2s 25ms/step - loss: 0.0014 - accuracy: 0.8058 - val_loss: 0.0020 - val_accuracy: 0.7861\n",
            "Epoch 83/100\n",
            "70/71 [============================>.] - ETA: 0s - loss: 0.0014 - accuracy: 0.8063\n",
            "Epoch 83: val_loss did not improve from 0.00174\n",
            "71/71 [==============================] - 2s 25ms/step - loss: 0.0014 - accuracy: 0.8061 - val_loss: 0.0020 - val_accuracy: 0.7764\n",
            "Epoch 84/100\n",
            "69/71 [============================>.] - ETA: 0s - loss: 0.0013 - accuracy: 0.8076\n",
            "Epoch 84: val_loss did not improve from 0.00174\n",
            "71/71 [==============================] - 2s 25ms/step - loss: 0.0013 - accuracy: 0.8080 - val_loss: 0.0020 - val_accuracy: 0.7818\n",
            "Epoch 85/100\n",
            "70/71 [============================>.] - ETA: 0s - loss: 0.0013 - accuracy: 0.8090\n",
            "Epoch 85: val_loss did not improve from 0.00174\n",
            "71/71 [==============================] - 2s 25ms/step - loss: 0.0013 - accuracy: 0.8089 - val_loss: 0.0020 - val_accuracy: 0.7825\n",
            "Epoch 86/100\n",
            "70/71 [============================>.] - ETA: 0s - loss: 0.0013 - accuracy: 0.8086\n",
            "Epoch 86: val_loss did not improve from 0.00174\n",
            "71/71 [==============================] - 2s 28ms/step - loss: 0.0013 - accuracy: 0.8085 - val_loss: 0.0020 - val_accuracy: 0.7885\n",
            "Epoch 87/100\n",
            "70/71 [============================>.] - ETA: 0s - loss: 0.0013 - accuracy: 0.8104\n",
            "Epoch 87: val_loss did not improve from 0.00174\n",
            "71/71 [==============================] - 2s 26ms/step - loss: 0.0013 - accuracy: 0.8103 - val_loss: 0.0020 - val_accuracy: 0.7823\n",
            "Epoch 88/100\n",
            "70/71 [============================>.] - ETA: 0s - loss: 0.0013 - accuracy: 0.8113\n",
            "Epoch 88: val_loss did not improve from 0.00174\n",
            "71/71 [==============================] - 2s 32ms/step - loss: 0.0013 - accuracy: 0.8112 - val_loss: 0.0020 - val_accuracy: 0.7908\n",
            "Epoch 89/100\n",
            "70/71 [============================>.] - ETA: 0s - loss: 0.0013 - accuracy: 0.8096\n",
            "Epoch 89: val_loss did not improve from 0.00174\n",
            "71/71 [==============================] - 2s 28ms/step - loss: 0.0013 - accuracy: 0.8095 - val_loss: 0.0019 - val_accuracy: 0.7870\n",
            "Epoch 90/100\n",
            "71/71 [==============================] - ETA: 0s - loss: 0.0013 - accuracy: 0.8090\n",
            "Epoch 90: val_loss did not improve from 0.00174\n",
            "71/71 [==============================] - 2s 25ms/step - loss: 0.0013 - accuracy: 0.8090 - val_loss: 0.0020 - val_accuracy: 0.7796\n",
            "Epoch 91/100\n",
            "70/71 [============================>.] - ETA: 0s - loss: 0.0013 - accuracy: 0.8101\n",
            "Epoch 91: val_loss did not improve from 0.00174\n",
            "71/71 [==============================] - 2s 25ms/step - loss: 0.0013 - accuracy: 0.8099 - val_loss: 0.0020 - val_accuracy: 0.7959\n",
            "Epoch 92/100\n",
            "70/71 [============================>.] - ETA: 0s - loss: 0.0013 - accuracy: 0.8095\n",
            "Epoch 92: val_loss did not improve from 0.00174\n",
            "71/71 [==============================] - 2s 25ms/step - loss: 0.0013 - accuracy: 0.8095 - val_loss: 0.0021 - val_accuracy: 0.7781\n",
            "Epoch 93/100\n",
            "70/71 [============================>.] - ETA: 0s - loss: 0.0013 - accuracy: 0.8102\n",
            "Epoch 93: val_loss did not improve from 0.00174\n",
            "71/71 [==============================] - 2s 25ms/step - loss: 0.0013 - accuracy: 0.8103 - val_loss: 0.0020 - val_accuracy: 0.7920\n",
            "Epoch 94/100\n",
            "70/71 [============================>.] - ETA: 0s - loss: 0.0013 - accuracy: 0.8117\n",
            "Epoch 94: val_loss did not improve from 0.00174\n",
            "71/71 [==============================] - 2s 25ms/step - loss: 0.0013 - accuracy: 0.8118 - val_loss: 0.0020 - val_accuracy: 0.7880\n",
            "Epoch 95/100\n",
            "71/71 [==============================] - ETA: 0s - loss: 0.0013 - accuracy: 0.8106\n",
            "Epoch 95: val_loss did not improve from 0.00174\n",
            "71/71 [==============================] - 2s 26ms/step - loss: 0.0013 - accuracy: 0.8106 - val_loss: 0.0020 - val_accuracy: 0.7877\n",
            "Epoch 96/100\n",
            "70/71 [============================>.] - ETA: 0s - loss: 0.0012 - accuracy: 0.8131\n",
            "Epoch 96: val_loss did not improve from 0.00174\n",
            "71/71 [==============================] - 2s 25ms/step - loss: 0.0012 - accuracy: 0.8132 - val_loss: 0.0021 - val_accuracy: 0.7906\n",
            "Epoch 97/100\n",
            "69/71 [============================>.] - ETA: 0s - loss: 0.0012 - accuracy: 0.8113\n",
            "Epoch 97: val_loss did not improve from 0.00174\n",
            "71/71 [==============================] - 2s 25ms/step - loss: 0.0012 - accuracy: 0.8113 - val_loss: 0.0020 - val_accuracy: 0.7862\n",
            "Epoch 98/100\n",
            "71/71 [==============================] - ETA: 0s - loss: 0.0012 - accuracy: 0.8112\n",
            "Epoch 98: val_loss did not improve from 0.00174\n",
            "71/71 [==============================] - 2s 26ms/step - loss: 0.0012 - accuracy: 0.8112 - val_loss: 0.0020 - val_accuracy: 0.7928\n",
            "Epoch 99/100\n",
            "69/71 [============================>.] - ETA: 0s - loss: 0.0012 - accuracy: 0.8133\n",
            "Epoch 99: val_loss did not improve from 0.00174\n",
            "71/71 [==============================] - 2s 26ms/step - loss: 0.0012 - accuracy: 0.8132 - val_loss: 0.0021 - val_accuracy: 0.7837\n",
            "Epoch 100/100\n",
            "70/71 [============================>.] - ETA: 0s - loss: 0.0013 - accuracy: 0.8111\n",
            "Epoch 100: val_loss did not improve from 0.00174\n",
            "71/71 [==============================] - 2s 26ms/step - loss: 0.0013 - accuracy: 0.8110 - val_loss: 0.0020 - val_accuracy: 0.7738\n"
          ]
        }
      ]
    },
    {
      "cell_type": "code",
      "metadata": {
        "id": "Y8CNHM5N85BV",
        "colab": {
          "base_uri": "https://localhost:8080/",
          "height": 180
        },
        "outputId": "ba5a3518-c74a-4d33-aa83-7e1cb89bf2a1"
      },
      "source": [
        "dae.load_weights('best_model.h5')\n",
        "test_data_denoised = dae.predict(test_data_noisy)\n",
        "idx = 20\n",
        "\n",
        "plt.subplot(1,3,1)\n",
        "plt.imshow(test_data_clean[idx])\n",
        "plt.title('original')\n",
        "plt.subplot(1,3,2)\n",
        "plt.imshow(test_data_noisy[idx])\n",
        "plt.title('noisy')\n",
        "plt.subplot(1,3,3)\n",
        "plt.imshow(test_data_denoised[idx])\n",
        "plt.title('denoised')\n",
        "plt.show()"
      ],
      "execution_count": null,
      "outputs": [
        {
          "output_type": "stream",
          "name": "stdout",
          "text": [
            "313/313 [==============================] - 2s 4ms/step\n"
          ]
        },
        {
          "output_type": "display_data",
          "data": {
            "text/plain": [
              "<Figure size 432x288 with 3 Axes>"
            ],
            "image/png": "[encoded data removed]"
          },
          "metadata": {
            "needs_background": "light"
          }
        }
      ]
    },
    {
      "cell_type": "code",
      "source": [],
      "metadata": {
        "id": "1p2suEtK0Y_q"
      },
      "execution_count": null,
      "outputs": []
    },
    {
      "cell_type": "code",
      "metadata": {
        "id": "yDJDsHDvBSbn",
        "colab": {
          "base_uri": "https://localhost:8080/"
        },
        "outputId": "dba14896-5a4d-49f3-e189-a56283d8f9be"
      },
      "source": [
        "#Evaluating the loss\n",
        "def mse(data_1, data_2):\n",
        "   return np.square(np.subtract(data_1, data_2)).mean()\n",
        "\n",
        "noisy_clean_mse = mse(test_data_clean, test_data_noisy)\n",
        "denoised_clean_mse = mse(test_data_denoised, test_data_clean)\n",
        "\n",
        "noisy_clean_mse, denoised_clean_mse"
      ],
      "execution_count": null,
      "outputs": [
        {
          "output_type": "execute_result",
          "data": {
            "text/plain": [
              "(0.009307515237843214, 0.0017515827)"
            ]
          },
          "metadata": {},
          "execution_count": 37
        }
      ]
    },
    {
      "cell_type": "code",
      "metadata": {
        "id": "jzbwIy8d9gyH",
        "colab": {
          "base_uri": "https://localhost:8080/"
        },
        "outputId": "99d70b1d-502d-4d44-ce77-90b19812806c"
      },
      "source": [
        "#Evaluating the model on test data \n",
        "results = dae.evaluate(test_data_noisy, test_data_clean, verbose=0)\n",
        "\n",
        "print(\"test loss, test accuracy :\")\n",
        "print(results)"
      ],
      "execution_count": null,
      "outputs": [
        {
          "output_type": "stream",
          "name": "stdout",
          "text": [
            "test loss, test accuracy :\n",
            "[0.0017515817889943719, 0.791760265827179]\n"
          ]
        }
      ]
    },
    {
      "cell_type": "code",
      "source": [],
      "metadata": {
        "id": "jBtSfR8b_oBL"
      },
      "execution_count": null,
      "outputs": []
    }
  ]
}